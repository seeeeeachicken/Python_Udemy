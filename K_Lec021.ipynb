{
 "cells": [
  {
   "cell_type": "code",
   "execution_count": 1,
   "id": "fccfa187",
   "metadata": {},
   "outputs": [],
   "source": [
    "import pandas as pd\n",
    "import numpy as np\n",
    "from pandas import Series,DataFrame"
   ]
  },
  {
   "cell_type": "code",
   "execution_count": 2,
   "id": "d511cb92",
   "metadata": {},
   "outputs": [],
   "source": [
    "ser1 = Series(range(3), index=list('CAB'))"
   ]
  },
  {
   "cell_type": "code",
   "execution_count": 3,
   "id": "04bcde7b",
   "metadata": {},
   "outputs": [
    {
     "data": {
      "text/plain": [
       "C    0\n",
       "A    1\n",
       "B    2\n",
       "dtype: int64"
      ]
     },
     "execution_count": 3,
     "metadata": {},
     "output_type": "execute_result"
    }
   ],
   "source": [
    "ser1"
   ]
  },
  {
   "cell_type": "code",
   "execution_count": 4,
   "id": "2765797d",
   "metadata": {},
   "outputs": [
    {
     "data": {
      "text/plain": [
       "A    1\n",
       "B    2\n",
       "C    0\n",
       "dtype: int64"
      ]
     },
     "execution_count": 4,
     "metadata": {},
     "output_type": "execute_result"
    }
   ],
   "source": [
    "ser1.sort_index()"
   ]
  },
  {
   "cell_type": "code",
   "execution_count": 5,
   "id": "6a93e299",
   "metadata": {},
   "outputs": [
    {
     "data": {
      "text/plain": [
       "C    0\n",
       "A    1\n",
       "B    2\n",
       "dtype: int64"
      ]
     },
     "execution_count": 5,
     "metadata": {},
     "output_type": "execute_result"
    }
   ],
   "source": [
    "ser1.sort_values()"
   ]
  },
  {
   "cell_type": "code",
   "execution_count": 7,
   "id": "97d99cf6",
   "metadata": {},
   "outputs": [],
   "source": [
    "from numpy.random import randn"
   ]
  },
  {
   "cell_type": "code",
   "execution_count": 8,
   "id": "febc307b",
   "metadata": {},
   "outputs": [
    {
     "data": {
      "text/plain": [
       "0    0.111851\n",
       "1    0.953261\n",
       "2    0.766289\n",
       "3    0.294772\n",
       "4    2.362028\n",
       "5   -0.735300\n",
       "6    0.246943\n",
       "7    1.682413\n",
       "8    0.255112\n",
       "9   -2.516796\n",
       "dtype: float64"
      ]
     },
     "execution_count": 8,
     "metadata": {},
     "output_type": "execute_result"
    }
   ],
   "source": [
    "ser2 = Series(randn(10))\n",
    "ser2"
   ]
  },
  {
   "cell_type": "code",
   "execution_count": 9,
   "id": "63485c72",
   "metadata": {},
   "outputs": [
    {
     "data": {
      "text/plain": [
       "0     3.0\n",
       "1     8.0\n",
       "2     7.0\n",
       "3     6.0\n",
       "4    10.0\n",
       "5     2.0\n",
       "6     4.0\n",
       "7     9.0\n",
       "8     5.0\n",
       "9     1.0\n",
       "dtype: float64"
      ]
     },
     "execution_count": 9,
     "metadata": {},
     "output_type": "execute_result"
    }
   ],
   "source": [
    "ser2.rank()"
   ]
  },
  {
   "cell_type": "code",
   "execution_count": 11,
   "id": "1fba51a1",
   "metadata": {},
   "outputs": [
    {
     "data": {
      "text/plain": [
       "9   -2.516796\n",
       "5   -0.735300\n",
       "0    0.111851\n",
       "6    0.246943\n",
       "8    0.255112\n",
       "3    0.294772\n",
       "2    0.766289\n",
       "1    0.953261\n",
       "7    1.682413\n",
       "4    2.362028\n",
       "dtype: float64"
      ]
     },
     "execution_count": 11,
     "metadata": {},
     "output_type": "execute_result"
    }
   ],
   "source": [
    "sorted_ser = ser2.sort_values()\n",
    "sorted_ser"
   ]
  },
  {
   "cell_type": "code",
   "execution_count": 12,
   "id": "77c56c52",
   "metadata": {},
   "outputs": [
    {
     "data": {
      "text/plain": [
       "9     1.0\n",
       "5     2.0\n",
       "0     3.0\n",
       "6     4.0\n",
       "8     5.0\n",
       "3     6.0\n",
       "2     7.0\n",
       "1     8.0\n",
       "7     9.0\n",
       "4    10.0\n",
       "dtype: float64"
      ]
     },
     "execution_count": 12,
     "metadata": {},
     "output_type": "execute_result"
    }
   ],
   "source": [
    "sorted_ser.rank()"
   ]
  },
  {
   "cell_type": "code",
   "execution_count": 13,
   "id": "90cc6e56",
   "metadata": {},
   "outputs": [
    {
     "data": {
      "text/plain": [
       "0    0.111851\n",
       "1    0.953261\n",
       "2    0.766289\n",
       "3    0.294772\n",
       "4    2.362028\n",
       "5   -0.735300\n",
       "6    0.246943\n",
       "7    1.682413\n",
       "8    0.255112\n",
       "9   -2.516796\n",
       "dtype: float64"
      ]
     },
     "execution_count": 13,
     "metadata": {},
     "output_type": "execute_result"
    }
   ],
   "source": [
    "ser2"
   ]
  },
  {
   "cell_type": "code",
   "execution_count": null,
   "id": "296f271f",
   "metadata": {},
   "outputs": [],
   "source": []
  }
 ],
 "metadata": {
  "kernelspec": {
   "display_name": "Python 3 (ipykernel)",
   "language": "python",
   "name": "python3"
  },
  "language_info": {
   "codemirror_mode": {
    "name": "ipython",
    "version": 3
   },
   "file_extension": ".py",
   "mimetype": "text/x-python",
   "name": "python",
   "nbconvert_exporter": "python",
   "pygments_lexer": "ipython3",
   "version": "3.11.5"
  }
 },
 "nbformat": 4,
 "nbformat_minor": 5
}
